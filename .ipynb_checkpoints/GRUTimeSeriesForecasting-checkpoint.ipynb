{
 "cells": [
  {
   "cell_type": "code",
   "execution_count": 1,
   "id": "c60489f7-d333-4af8-bd40-97b07d05157d",
   "metadata": {},
   "outputs": [],
   "source": [
    "import pandas as pd"
   ]
  },
  {
   "cell_type": "code",
   "execution_count": 2,
   "id": "bb747c40-221b-4274-9907-44cee7ac2a70",
   "metadata": {},
   "outputs": [],
   "source": [
    "data = pd.read_csv(\"bitcoin_full_dataset_1h_21_24.csv\")"
   ]
  },
  {
   "cell_type": "code",
   "execution_count": 3,
   "id": "66c109c8-56e3-4d25-ad8d-e7c91c359c27",
   "metadata": {},
   "outputs": [
    {
     "data": {
      "text/html": [
       "<div>\n",
       "<style scoped>\n",
       "    .dataframe tbody tr th:only-of-type {\n",
       "        vertical-align: middle;\n",
       "    }\n",
       "\n",
       "    .dataframe tbody tr th {\n",
       "        vertical-align: top;\n",
       "    }\n",
       "\n",
       "    .dataframe thead th {\n",
       "        text-align: right;\n",
       "    }\n",
       "</style>\n",
       "<table border=\"1\" class=\"dataframe\">\n",
       "  <thead>\n",
       "    <tr style=\"text-align: right;\">\n",
       "      <th></th>\n",
       "      <th>Unnamed: 0</th>\n",
       "      <th>Date</th>\n",
       "      <th>price</th>\n",
       "      <th>buys_per_hour</th>\n",
       "      <th>sells_per_hour</th>\n",
       "      <th>volume_bought_per_hour</th>\n",
       "      <th>volume_sold_per_hour</th>\n",
       "      <th>size_bought_per_hour</th>\n",
       "      <th>size_sold_per_hour</th>\n",
       "    </tr>\n",
       "  </thead>\n",
       "  <tbody>\n",
       "    <tr>\n",
       "      <th>0</th>\n",
       "      <td>0</td>\n",
       "      <td>2020-12-31 16:00:00</td>\n",
       "      <td>28627.20</td>\n",
       "      <td>2.0</td>\n",
       "      <td>0.0</td>\n",
       "      <td>2.177925e+03</td>\n",
       "      <td>0.000000e+00</td>\n",
       "      <td>0.075600</td>\n",
       "      <td>0.000000</td>\n",
       "    </tr>\n",
       "    <tr>\n",
       "      <th>1</th>\n",
       "      <td>1</td>\n",
       "      <td>2021-01-01 01:00:00</td>\n",
       "      <td>29390.18</td>\n",
       "      <td>3.0</td>\n",
       "      <td>1.0</td>\n",
       "      <td>3.022732e+02</td>\n",
       "      <td>1.041392e+03</td>\n",
       "      <td>0.010300</td>\n",
       "      <td>0.035500</td>\n",
       "    </tr>\n",
       "    <tr>\n",
       "      <th>2</th>\n",
       "      <td>2</td>\n",
       "      <td>2021-01-01 02:00:00</td>\n",
       "      <td>29348.01</td>\n",
       "      <td>2.0</td>\n",
       "      <td>0.0</td>\n",
       "      <td>2.145550e+03</td>\n",
       "      <td>0.000000e+00</td>\n",
       "      <td>0.073200</td>\n",
       "      <td>0.000000</td>\n",
       "    </tr>\n",
       "    <tr>\n",
       "      <th>3</th>\n",
       "      <td>3</td>\n",
       "      <td>2021-01-01 03:00:00</td>\n",
       "      <td>29260.00</td>\n",
       "      <td>0.0</td>\n",
       "      <td>1.0</td>\n",
       "      <td>0.000000e+00</td>\n",
       "      <td>3.189340e+02</td>\n",
       "      <td>0.000000</td>\n",
       "      <td>0.010900</td>\n",
       "    </tr>\n",
       "    <tr>\n",
       "      <th>4</th>\n",
       "      <td>4</td>\n",
       "      <td>2021-01-01 05:00:00</td>\n",
       "      <td>29171.31</td>\n",
       "      <td>1.0</td>\n",
       "      <td>0.0</td>\n",
       "      <td>1.079338e+02</td>\n",
       "      <td>0.000000e+00</td>\n",
       "      <td>0.003700</td>\n",
       "      <td>0.000000</td>\n",
       "    </tr>\n",
       "    <tr>\n",
       "      <th>...</th>\n",
       "      <td>...</td>\n",
       "      <td>...</td>\n",
       "      <td>...</td>\n",
       "      <td>...</td>\n",
       "      <td>...</td>\n",
       "      <td>...</td>\n",
       "      <td>...</td>\n",
       "      <td>...</td>\n",
       "      <td>...</td>\n",
       "    </tr>\n",
       "    <tr>\n",
       "      <th>25976</th>\n",
       "      <td>25976</td>\n",
       "      <td>2024-02-27 11:00:00</td>\n",
       "      <td>56526.99</td>\n",
       "      <td>5345.0</td>\n",
       "      <td>5506.0</td>\n",
       "      <td>9.643225e+06</td>\n",
       "      <td>9.774185e+06</td>\n",
       "      <td>170.746857</td>\n",
       "      <td>173.073562</td>\n",
       "    </tr>\n",
       "    <tr>\n",
       "      <th>25977</th>\n",
       "      <td>25977</td>\n",
       "      <td>2024-02-27 12:00:00</td>\n",
       "      <td>56783.28</td>\n",
       "      <td>13569.0</td>\n",
       "      <td>11444.0</td>\n",
       "      <td>5.531386e+07</td>\n",
       "      <td>4.985537e+07</td>\n",
       "      <td>970.466203</td>\n",
       "      <td>874.547027</td>\n",
       "    </tr>\n",
       "    <tr>\n",
       "      <th>25978</th>\n",
       "      <td>25978</td>\n",
       "      <td>2024-02-27 13:00:00</td>\n",
       "      <td>57112.73</td>\n",
       "      <td>6341.0</td>\n",
       "      <td>6312.0</td>\n",
       "      <td>4.344131e+07</td>\n",
       "      <td>4.482176e+07</td>\n",
       "      <td>763.123694</td>\n",
       "      <td>787.409127</td>\n",
       "    </tr>\n",
       "    <tr>\n",
       "      <th>25979</th>\n",
       "      <td>25979</td>\n",
       "      <td>2024-02-27 14:00:00</td>\n",
       "      <td>56975.45</td>\n",
       "      <td>6525.0</td>\n",
       "      <td>6526.0</td>\n",
       "      <td>4.784900e+07</td>\n",
       "      <td>4.694685e+07</td>\n",
       "      <td>840.079634</td>\n",
       "      <td>824.159767</td>\n",
       "    </tr>\n",
       "    <tr>\n",
       "      <th>25980</th>\n",
       "      <td>25980</td>\n",
       "      <td>2024-02-27 15:00:00</td>\n",
       "      <td>56746.71</td>\n",
       "      <td>6131.0</td>\n",
       "      <td>6099.0</td>\n",
       "      <td>3.730048e+07</td>\n",
       "      <td>3.785420e+07</td>\n",
       "      <td>654.351061</td>\n",
       "      <td>664.012497</td>\n",
       "    </tr>\n",
       "  </tbody>\n",
       "</table>\n",
       "<p>25981 rows × 9 columns</p>\n",
       "</div>"
      ],
      "text/plain": [
       "       Unnamed: 0                 Date     price  buys_per_hour  \\\n",
       "0               0  2020-12-31 16:00:00  28627.20            2.0   \n",
       "1               1  2021-01-01 01:00:00  29390.18            3.0   \n",
       "2               2  2021-01-01 02:00:00  29348.01            2.0   \n",
       "3               3  2021-01-01 03:00:00  29260.00            0.0   \n",
       "4               4  2021-01-01 05:00:00  29171.31            1.0   \n",
       "...           ...                  ...       ...            ...   \n",
       "25976       25976  2024-02-27 11:00:00  56526.99         5345.0   \n",
       "25977       25977  2024-02-27 12:00:00  56783.28        13569.0   \n",
       "25978       25978  2024-02-27 13:00:00  57112.73         6341.0   \n",
       "25979       25979  2024-02-27 14:00:00  56975.45         6525.0   \n",
       "25980       25980  2024-02-27 15:00:00  56746.71         6131.0   \n",
       "\n",
       "       sells_per_hour  volume_bought_per_hour  volume_sold_per_hour  \\\n",
       "0                 0.0            2.177925e+03          0.000000e+00   \n",
       "1                 1.0            3.022732e+02          1.041392e+03   \n",
       "2                 0.0            2.145550e+03          0.000000e+00   \n",
       "3                 1.0            0.000000e+00          3.189340e+02   \n",
       "4                 0.0            1.079338e+02          0.000000e+00   \n",
       "...               ...                     ...                   ...   \n",
       "25976          5506.0            9.643225e+06          9.774185e+06   \n",
       "25977         11444.0            5.531386e+07          4.985537e+07   \n",
       "25978          6312.0            4.344131e+07          4.482176e+07   \n",
       "25979          6526.0            4.784900e+07          4.694685e+07   \n",
       "25980          6099.0            3.730048e+07          3.785420e+07   \n",
       "\n",
       "       size_bought_per_hour  size_sold_per_hour  \n",
       "0                  0.075600            0.000000  \n",
       "1                  0.010300            0.035500  \n",
       "2                  0.073200            0.000000  \n",
       "3                  0.000000            0.010900  \n",
       "4                  0.003700            0.000000  \n",
       "...                     ...                 ...  \n",
       "25976            170.746857          173.073562  \n",
       "25977            970.466203          874.547027  \n",
       "25978            763.123694          787.409127  \n",
       "25979            840.079634          824.159767  \n",
       "25980            654.351061          664.012497  \n",
       "\n",
       "[25981 rows x 9 columns]"
      ]
     },
     "execution_count": 3,
     "metadata": {},
     "output_type": "execute_result"
    }
   ],
   "source": [
    "data"
   ]
  },
  {
   "cell_type": "code",
   "execution_count": 4,
   "id": "e71b8e58-e8ae-4512-98d5-f39621329b68",
   "metadata": {},
   "outputs": [],
   "source": [
    "temp = data['price']"
   ]
  },
  {
   "cell_type": "code",
   "execution_count": 6,
   "id": "aa19316e-a1ed-48b9-a92c-8d500d12f76b",
   "metadata": {},
   "outputs": [],
   "source": [
    "# Normalize the data\n",
    "from sklearn.preprocessing import MinMaxScaler\n",
    "scaler = MinMaxScaler(feature_range=(0, 1))\n",
    "prices_scaled = scaler.fit_transform(temp.values.reshape(-1, 1))"
   ]
  },
  {
   "cell_type": "code",
   "execution_count": 7,
   "id": "c735d60f-5c07-4284-9709-c28b231e8218",
   "metadata": {},
   "outputs": [
    {
     "data": {
      "text/plain": [
       "<Axes: >"
      ]
     },
     "execution_count": 7,
     "metadata": {},
     "output_type": "execute_result"
    },
    {
     "data": {
      "image/png": "[encoded data removed]",
      "text/plain": [
       "<Figure size 640x480 with 1 Axes>"
      ]
     },
     "metadata": {},
     "output_type": "display_data"
    }
   ],
   "source": [
    "import matplotlib.pyplot as plt \n",
    "\n",
    "temp.plot()"
   ]
  },
  {
   "cell_type": "code",
   "execution_count": 9,
   "id": "bcef41cd-ba6d-49b7-873b-b13077d88c4a",
   "metadata": {},
   "outputs": [],
   "source": [
    "import numpy as np\n",
    "def df_to_X_y(df, window_size=5):\n",
    "  df_as_np = df\n",
    "  X = []\n",
    "  y = []\n",
    "  for i in range(len(df_as_np)-window_size):\n",
    "    row = [[a] for a in df_as_np[i:i+window_size]]\n",
    "    X.append(row)\n",
    "    label = df_as_np[i+window_size]\n",
    "    y.append(label)\n",
    "  return np.array(X), np.array(y)"
   ]
  },
  {
   "cell_type": "code",
   "execution_count": 10,
   "id": "6bd45b8e-d3c0-4345-a067-8fb5eb320219",
   "metadata": {},
   "outputs": [
    {
     "data": {
      "text/plain": [
       "((25976, 5, 1, 1), (25976, 1))"
      ]
     },
     "execution_count": 10,
     "metadata": {},
     "output_type": "execute_result"
    }
   ],
   "source": [
    "WINDOW_SIZE = 5\n",
    "X1, y1 = df_to_X_y(prices_scaled, WINDOW_SIZE)\n",
    "X1.shape, y1.shape"
   ]
  },
  {
   "cell_type": "code",
   "execution_count": 11,
   "id": "12fcee31-3362-4577-8379-02a76e35595a",
   "metadata": {},
   "outputs": [
    {
     "data": {
      "text/plain": [
       "((20000, 5, 1, 1),\n",
       " (20000, 1),\n",
       " (5000, 5, 1, 1),\n",
       " (5000, 1),\n",
       " (976, 5, 1, 1),\n",
       " (976, 1))"
      ]
     },
     "execution_count": 11,
     "metadata": {},
     "output_type": "execute_result"
    }
   ],
   "source": [
    "X_train1, y_train1 = X1[:20000], y1[:20000]\n",
    "X_val1, y_val1 = X1[20000:25000], y1[20000:25000]\n",
    "X_test1, y_test1 = X1[25000:], y1[25000:]\n",
    "X_train1.shape, y_train1.shape, X_val1.shape, y_val1.shape, X_test1.shape, y_test1.shape"
   ]
  },
  {
   "cell_type": "code",
   "execution_count": 12,
   "id": "d53e861e-89a5-4b11-b2ce-8039d0f48379",
   "metadata": {},
   "outputs": [
    {
     "data": {
      "text/plain": [
       "array([[0.25402223],\n",
       "       [0.25346374],\n",
       "       [0.25914165],\n",
       "       ...,\n",
       "       [0.21116098],\n",
       "       [0.20497378],\n",
       "       [0.20698447]])"
      ]
     },
     "execution_count": 12,
     "metadata": {},
     "output_type": "execute_result"
    }
   ],
   "source": [
    "y_train1"
   ]
  },
  {
   "cell_type": "code",
   "execution_count": 24,
   "id": "e6dcd65a-18af-438d-a32f-be546bc7d9da",
   "metadata": {},
   "outputs": [
    {
     "data": {
      "text/html": [
       "<pre style=\"white-space:pre;overflow-x:auto;line-height:normal;font-family:Menlo,'DejaVu Sans Mono',consolas,'Courier New',monospace\"><span style=\"font-weight: bold\">Model: \"sequential_1\"</span>\n",
       "</pre>\n"
      ],
      "text/plain": [
       "\u001b[1mModel: \"sequential_1\"\u001b[0m\n"
      ]
     },
     "metadata": {},
     "output_type": "display_data"
    },
    {
     "data": {
      "text/html": [
       "<pre style=\"white-space:pre;overflow-x:auto;line-height:normal;font-family:Menlo,'DejaVu Sans Mono',consolas,'Courier New',monospace\">┏━━━━━━━━━━━━━━━━━━━━━━━━━━━━━━━━━━━━━━┳━━━━━━━━━━━━━━━━━━━━━━━━━━━━━┳━━━━━━━━━━━━━━━━━┓\n",
       "┃<span style=\"font-weight: bold\"> Layer (type)                         </span>┃<span style=\"font-weight: bold\"> Output Shape                </span>┃<span style=\"font-weight: bold\">         Param # </span>┃\n",
       "┡━━━━━━━━━━━━━━━━━━━━━━━━━━━━━━━━━━━━━━╇━━━━━━━━━━━━━━━━━━━━━━━━━━━━━╇━━━━━━━━━━━━━━━━━┩\n",
       "│ gru (<span style=\"color: #0087ff; text-decoration-color: #0087ff\">GRU</span>)                            │ (<span style=\"color: #00d7ff; text-decoration-color: #00d7ff\">None</span>, <span style=\"color: #00af00; text-decoration-color: #00af00\">64</span>)                  │          <span style=\"color: #00af00; text-decoration-color: #00af00\">12,864</span> │\n",
       "├──────────────────────────────────────┼─────────────────────────────┼─────────────────┤\n",
       "│ dense_2 (<span style=\"color: #0087ff; text-decoration-color: #0087ff\">Dense</span>)                      │ (<span style=\"color: #00d7ff; text-decoration-color: #00d7ff\">None</span>, <span style=\"color: #00af00; text-decoration-color: #00af00\">8</span>)                   │             <span style=\"color: #00af00; text-decoration-color: #00af00\">520</span> │\n",
       "├──────────────────────────────────────┼─────────────────────────────┼─────────────────┤\n",
       "│ dense_3 (<span style=\"color: #0087ff; text-decoration-color: #0087ff\">Dense</span>)                      │ (<span style=\"color: #00d7ff; text-decoration-color: #00d7ff\">None</span>, <span style=\"color: #00af00; text-decoration-color: #00af00\">1</span>)                   │               <span style=\"color: #00af00; text-decoration-color: #00af00\">9</span> │\n",
       "└──────────────────────────────────────┴─────────────────────────────┴─────────────────┘\n",
       "</pre>\n"
      ],
      "text/plain": [
       "┏━━━━━━━━━━━━━━━━━━━━━━━━━━━━━━━━━━━━━━┳━━━━━━━━━━━━━━━━━━━━━━━━━━━━━┳━━━━━━━━━━━━━━━━━┓\n",
       "┃\u001b[1m \u001b[0m\u001b[1mLayer (type)                        \u001b[0m\u001b[1m \u001b[0m┃\u001b[1m \u001b[0m\u001b[1mOutput Shape               \u001b[0m\u001b[1m \u001b[0m┃\u001b[1m \u001b[0m\u001b[1m        Param #\u001b[0m\u001b[1m \u001b[0m┃\n",
       "┡━━━━━━━━━━━━━━━━━━━━━━━━━━━━━━━━━━━━━━╇━━━━━━━━━━━━━━━━━━━━━━━━━━━━━╇━━━━━━━━━━━━━━━━━┩\n",
       "│ gru (\u001b[38;5;33mGRU\u001b[0m)                            │ (\u001b[38;5;45mNone\u001b[0m, \u001b[38;5;34m64\u001b[0m)                  │          \u001b[38;5;34m12,864\u001b[0m │\n",
       "├──────────────────────────────────────┼─────────────────────────────┼─────────────────┤\n",
       "│ dense_2 (\u001b[38;5;33mDense\u001b[0m)                      │ (\u001b[38;5;45mNone\u001b[0m, \u001b[38;5;34m8\u001b[0m)                   │             \u001b[38;5;34m520\u001b[0m │\n",
       "├──────────────────────────────────────┼─────────────────────────────┼─────────────────┤\n",
       "│ dense_3 (\u001b[38;5;33mDense\u001b[0m)                      │ (\u001b[38;5;45mNone\u001b[0m, \u001b[38;5;34m1\u001b[0m)                   │               \u001b[38;5;34m9\u001b[0m │\n",
       "└──────────────────────────────────────┴─────────────────────────────┴─────────────────┘\n"
      ]
     },
     "metadata": {},
     "output_type": "display_data"
    },
    {
     "data": {
      "text/html": [
       "<pre style=\"white-space:pre;overflow-x:auto;line-height:normal;font-family:Menlo,'DejaVu Sans Mono',consolas,'Courier New',monospace\"><span style=\"font-weight: bold\"> Total params: </span><span style=\"color: #00af00; text-decoration-color: #00af00\">13,393</span> (52.32 KB)\n",
       "</pre>\n"
      ],
      "text/plain": [
       "\u001b[1m Total params: \u001b[0m\u001b[38;5;34m13,393\u001b[0m (52.32 KB)\n"
      ]
     },
     "metadata": {},
     "output_type": "display_data"
    },
    {
     "data": {
      "text/html": [
       "<pre style=\"white-space:pre;overflow-x:auto;line-height:normal;font-family:Menlo,'DejaVu Sans Mono',consolas,'Courier New',monospace\"><span style=\"font-weight: bold\"> Trainable params: </span><span style=\"color: #00af00; text-decoration-color: #00af00\">13,393</span> (52.32 KB)\n",
       "</pre>\n"
      ],
      "text/plain": [
       "\u001b[1m Trainable params: \u001b[0m\u001b[38;5;34m13,393\u001b[0m (52.32 KB)\n"
      ]
     },
     "metadata": {},
     "output_type": "display_data"
    },
    {
     "data": {
      "text/html": [
       "<pre style=\"white-space:pre;overflow-x:auto;line-height:normal;font-family:Menlo,'DejaVu Sans Mono',consolas,'Courier New',monospace\"><span style=\"font-weight: bold\"> Non-trainable params: </span><span style=\"color: #00af00; text-decoration-color: #00af00\">0</span> (0.00 B)\n",
       "</pre>\n"
      ],
      "text/plain": [
       "\u001b[1m Non-trainable params: \u001b[0m\u001b[38;5;34m0\u001b[0m (0.00 B)\n"
      ]
     },
     "metadata": {},
     "output_type": "display_data"
    }
   ],
   "source": [
    "from tensorflow.keras.models import Sequential\n",
    "from tensorflow.keras.layers import *\n",
    "from tensorflow.keras.callbacks import ModelCheckpoint\n",
    "from tensorflow.keras.losses import MeanSquaredError\n",
    "from tensorflow.keras.metrics import RootMeanSquaredError\n",
    "from tensorflow.keras.optimizers import Adam\n",
    "import tensorflow as tf\n",
    "from tensorflow.keras.models import Sequential\n",
    "from tensorflow.keras.layers import GRU, Dense\n",
    "\n",
    "# Define the model\n",
    "model1 = Sequential()\n",
    "model1.add(InputLayer((5, 1)))\n",
    "# Adding an LSTM Layer\n",
    "model1.add(GRU(64))\n",
    "model1.add(Dense(8, 'relu'))\n",
    "model1.add(Dense(1, 'linear'))\n",
    "\n",
    "model1.summary()"
   ]
  },
  {
   "cell_type": "code",
   "execution_count": 25,
   "id": "1d5b6471-3483-4d9a-b5ee-e8cf3f7ddaa6",
   "metadata": {},
   "outputs": [],
   "source": [
    "cp1 = ModelCheckpoint('model1.keras', save_best_only=True)\n",
    "model1.compile(optimizer='adam', loss='mse', metrics=[RootMeanSquaredError()])"
   ]
  },
  {
   "cell_type": "code",
   "execution_count": 26,
   "id": "b04def37-1081-4c38-b464-b8fdeed36d0d",
   "metadata": {},
   "outputs": [
    {
     "name": "stdout",
     "output_type": "stream",
     "text": [
      "Epoch 1/10\n",
      "\u001b[1m625/625\u001b[0m \u001b[32m━━━━━━━━━━━━━━━━━━━━\u001b[0m\u001b[37m\u001b[0m \u001b[1m2s\u001b[0m 2ms/step - loss: 0.0065 - root_mean_squared_error: 0.0676 - val_loss: 1.6875e-05 - val_root_mean_squared_error: 0.0041\n",
      "Epoch 2/10\n",
      "\u001b[1m625/625\u001b[0m \u001b[32m━━━━━━━━━━━━━━━━━━━━\u001b[0m\u001b[37m\u001b[0m \u001b[1m1s\u001b[0m 2ms/step - loss: 6.5382e-05 - root_mean_squared_error: 0.0081 - val_loss: 1.2979e-05 - val_root_mean_squared_error: 0.0036\n",
      "Epoch 3/10\n",
      "\u001b[1m625/625\u001b[0m \u001b[32m━━━━━━━━━━━━━━━━━━━━\u001b[0m\u001b[37m\u001b[0m \u001b[1m1s\u001b[0m 2ms/step - loss: 6.2700e-05 - root_mean_squared_error: 0.0079 - val_loss: 1.4481e-05 - val_root_mean_squared_error: 0.0038\n",
      "Epoch 4/10\n",
      "\u001b[1m625/625\u001b[0m \u001b[32m━━━━━━━━━━━━━━━━━━━━\u001b[0m\u001b[37m\u001b[0m \u001b[1m1s\u001b[0m 2ms/step - loss: 6.2617e-05 - root_mean_squared_error: 0.0079 - val_loss: 1.4511e-05 - val_root_mean_squared_error: 0.0038\n",
      "Epoch 5/10\n",
      "\u001b[1m625/625\u001b[0m \u001b[32m━━━━━━━━━━━━━━━━━━━━\u001b[0m\u001b[37m\u001b[0m \u001b[1m1s\u001b[0m 2ms/step - loss: 5.5433e-05 - root_mean_squared_error: 0.0074 - val_loss: 1.4880e-05 - val_root_mean_squared_error: 0.0039\n",
      "Epoch 6/10\n",
      "\u001b[1m625/625\u001b[0m \u001b[32m━━━━━━━━━━━━━━━━━━━━\u001b[0m\u001b[37m\u001b[0m \u001b[1m1s\u001b[0m 2ms/step - loss: 5.4050e-05 - root_mean_squared_error: 0.0073 - val_loss: 1.4439e-05 - val_root_mean_squared_error: 0.0038\n",
      "Epoch 7/10\n",
      "\u001b[1m625/625\u001b[0m \u001b[32m━━━━━━━━━━━━━━━━━━━━\u001b[0m\u001b[37m\u001b[0m \u001b[1m1s\u001b[0m 2ms/step - loss: 5.4459e-05 - root_mean_squared_error: 0.0074 - val_loss: 1.0556e-05 - val_root_mean_squared_error: 0.0032\n",
      "Epoch 8/10\n",
      "\u001b[1m625/625\u001b[0m \u001b[32m━━━━━━━━━━━━━━━━━━━━\u001b[0m\u001b[37m\u001b[0m \u001b[1m1s\u001b[0m 2ms/step - loss: 4.9869e-05 - root_mean_squared_error: 0.0071 - val_loss: 9.4827e-06 - val_root_mean_squared_error: 0.0031\n",
      "Epoch 9/10\n",
      "\u001b[1m625/625\u001b[0m \u001b[32m━━━━━━━━━━━━━━━━━━━━\u001b[0m\u001b[37m\u001b[0m \u001b[1m1s\u001b[0m 2ms/step - loss: 4.7317e-05 - root_mean_squared_error: 0.0069 - val_loss: 8.9416e-06 - val_root_mean_squared_error: 0.0030\n",
      "Epoch 10/10\n",
      "\u001b[1m625/625\u001b[0m \u001b[32m━━━━━━━━━━━━━━━━━━━━\u001b[0m\u001b[37m\u001b[0m \u001b[1m1s\u001b[0m 2ms/step - loss: 4.5548e-05 - root_mean_squared_error: 0.0067 - val_loss: 1.7904e-05 - val_root_mean_squared_error: 0.0042\n"
     ]
    },
    {
     "data": {
      "text/plain": [
       "<keras.src.callbacks.history.History at 0x26b134c0400>"
      ]
     },
     "execution_count": 26,
     "metadata": {},
     "output_type": "execute_result"
    }
   ],
   "source": [
    "model1.fit(X_train1, y_train1, validation_data=(X_val1, y_val1), epochs=10, callbacks=[cp1])"
   ]
  },
  {
   "cell_type": "code",
   "execution_count": 27,
   "id": "61013ab1-0bd7-4f1a-909e-9f60964c5d65",
   "metadata": {},
   "outputs": [],
   "source": [
    "from tensorflow.keras.models import load_model\n",
    "model1 = load_model('model1.keras')"
   ]
  },
  {
   "cell_type": "code",
   "execution_count": 28,
   "id": "a4e55a45-8f53-4a52-96d8-5974cb8b5d8e",
   "metadata": {},
   "outputs": [
    {
     "name": "stdout",
     "output_type": "stream",
     "text": [
      "\u001b[1m625/625\u001b[0m \u001b[32m━━━━━━━━━━━━━━━━━━━━\u001b[0m\u001b[37m\u001b[0m \u001b[1m1s\u001b[0m 894us/step  \n"
     ]
    },
    {
     "data": {
      "text/html": [
       "<div>\n",
       "<style scoped>\n",
       "    .dataframe tbody tr th:only-of-type {\n",
       "        vertical-align: middle;\n",
       "    }\n",
       "\n",
       "    .dataframe tbody tr th {\n",
       "        vertical-align: top;\n",
       "    }\n",
       "\n",
       "    .dataframe thead th {\n",
       "        text-align: right;\n",
       "    }\n",
       "</style>\n",
       "<table border=\"1\" class=\"dataframe\">\n",
       "  <thead>\n",
       "    <tr style=\"text-align: right;\">\n",
       "      <th></th>\n",
       "      <th>Train Predictions</th>\n",
       "      <th>Actuals</th>\n",
       "    </tr>\n",
       "  </thead>\n",
       "  <tbody>\n",
       "    <tr>\n",
       "      <th>0</th>\n",
       "      <td>0.256877</td>\n",
       "      <td>0.254022</td>\n",
       "    </tr>\n",
       "    <tr>\n",
       "      <th>1</th>\n",
       "      <td>0.255283</td>\n",
       "      <td>0.253464</td>\n",
       "    </tr>\n",
       "    <tr>\n",
       "      <th>2</th>\n",
       "      <td>0.254304</td>\n",
       "      <td>0.259142</td>\n",
       "    </tr>\n",
       "    <tr>\n",
       "      <th>3</th>\n",
       "      <td>0.257502</td>\n",
       "      <td>0.257955</td>\n",
       "    </tr>\n",
       "    <tr>\n",
       "      <th>4</th>\n",
       "      <td>0.258133</td>\n",
       "      <td>0.261820</td>\n",
       "    </tr>\n",
       "    <tr>\n",
       "      <th>...</th>\n",
       "      <td>...</td>\n",
       "      <td>...</td>\n",
       "    </tr>\n",
       "    <tr>\n",
       "      <th>19995</th>\n",
       "      <td>0.213411</td>\n",
       "      <td>0.211399</td>\n",
       "    </tr>\n",
       "    <tr>\n",
       "      <th>19996</th>\n",
       "      <td>0.212379</td>\n",
       "      <td>0.210771</td>\n",
       "    </tr>\n",
       "    <tr>\n",
       "      <th>19997</th>\n",
       "      <td>0.211567</td>\n",
       "      <td>0.211161</td>\n",
       "    </tr>\n",
       "    <tr>\n",
       "      <th>19998</th>\n",
       "      <td>0.211492</td>\n",
       "      <td>0.204974</td>\n",
       "    </tr>\n",
       "    <tr>\n",
       "      <th>19999</th>\n",
       "      <td>0.207694</td>\n",
       "      <td>0.206984</td>\n",
       "    </tr>\n",
       "  </tbody>\n",
       "</table>\n",
       "<p>20000 rows × 2 columns</p>\n",
       "</div>"
      ],
      "text/plain": [
       "       Train Predictions   Actuals\n",
       "0               0.256877  0.254022\n",
       "1               0.255283  0.253464\n",
       "2               0.254304  0.259142\n",
       "3               0.257502  0.257955\n",
       "4               0.258133  0.261820\n",
       "...                  ...       ...\n",
       "19995           0.213411  0.211399\n",
       "19996           0.212379  0.210771\n",
       "19997           0.211567  0.211161\n",
       "19998           0.211492  0.204974\n",
       "19999           0.207694  0.206984\n",
       "\n",
       "[20000 rows x 2 columns]"
      ]
     },
     "execution_count": 28,
     "metadata": {},
     "output_type": "execute_result"
    }
   ],
   "source": [
    "train_predictions = model1.predict(X_train1).flatten()\n",
    "train_results = pd.DataFrame(data={'Train Predictions':train_predictions, 'Actuals':y_train1.flatten()})\n",
    "train_results"
   ]
  },
  {
   "cell_type": "code",
   "execution_count": 29,
   "id": "86dfd24d-3919-44ac-8919-78859034dd1c",
   "metadata": {},
   "outputs": [
    {
     "data": {
      "text/plain": [
       "[<matplotlib.lines.Line2D at 0x26b0e573010>]"
      ]
     },
     "execution_count": 29,
     "metadata": {},
     "output_type": "execute_result"
    },
    {
     "data": {
      "image/png": "[encoded data removed]",
      "text/plain": [
       "<Figure size 640x480 with 1 Axes>"
      ]
     },
     "metadata": {},
     "output_type": "display_data"
    }
   ],
   "source": [
    "import matplotlib.pyplot as plt\n",
    "plt.plot(train_results['Train Predictions'][:100], color='red')\n",
    "plt.plot(train_results['Actuals'][:100])"
   ]
  },
  {
   "cell_type": "code",
   "execution_count": 30,
   "id": "be7765e7-0df5-480c-8a8e-65ccb081a695",
   "metadata": {},
   "outputs": [
    {
     "name": "stdout",
     "output_type": "stream",
     "text": [
      "\u001b[1m157/157\u001b[0m \u001b[32m━━━━━━━━━━━━━━━━━━━━\u001b[0m\u001b[37m\u001b[0m \u001b[1m0s\u001b[0m 2ms/step \n"
     ]
    },
    {
     "data": {
      "text/html": [
       "<div>\n",
       "<style scoped>\n",
       "    .dataframe tbody tr th:only-of-type {\n",
       "        vertical-align: middle;\n",
       "    }\n",
       "\n",
       "    .dataframe tbody tr th {\n",
       "        vertical-align: top;\n",
       "    }\n",
       "\n",
       "    .dataframe thead th {\n",
       "        text-align: right;\n",
       "    }\n",
       "</style>\n",
       "<table border=\"1\" class=\"dataframe\">\n",
       "  <thead>\n",
       "    <tr style=\"text-align: right;\">\n",
       "      <th></th>\n",
       "      <th>Val Predictions</th>\n",
       "      <th>Actuals</th>\n",
       "    </tr>\n",
       "  </thead>\n",
       "  <tbody>\n",
       "    <tr>\n",
       "      <th>0</th>\n",
       "      <td>0.207325</td>\n",
       "      <td>0.212564</td>\n",
       "    </tr>\n",
       "    <tr>\n",
       "      <th>1</th>\n",
       "      <td>0.210703</td>\n",
       "      <td>0.210912</td>\n",
       "    </tr>\n",
       "    <tr>\n",
       "      <th>2</th>\n",
       "      <td>0.211171</td>\n",
       "      <td>0.211162</td>\n",
       "    </tr>\n",
       "    <tr>\n",
       "      <th>3</th>\n",
       "      <td>0.211436</td>\n",
       "      <td>0.204035</td>\n",
       "    </tr>\n",
       "    <tr>\n",
       "      <th>4</th>\n",
       "      <td>0.207132</td>\n",
       "      <td>0.202195</td>\n",
       "    </tr>\n",
       "    <tr>\n",
       "      <th>...</th>\n",
       "      <td>...</td>\n",
       "      <td>...</td>\n",
       "    </tr>\n",
       "    <tr>\n",
       "      <th>4995</th>\n",
       "      <td>0.515460</td>\n",
       "      <td>0.513864</td>\n",
       "    </tr>\n",
       "    <tr>\n",
       "      <th>4996</th>\n",
       "      <td>0.514997</td>\n",
       "      <td>0.515525</td>\n",
       "    </tr>\n",
       "    <tr>\n",
       "      <th>4997</th>\n",
       "      <td>0.515933</td>\n",
       "      <td>0.516001</td>\n",
       "    </tr>\n",
       "    <tr>\n",
       "      <th>4998</th>\n",
       "      <td>0.516594</td>\n",
       "      <td>0.516850</td>\n",
       "    </tr>\n",
       "    <tr>\n",
       "      <th>4999</th>\n",
       "      <td>0.517379</td>\n",
       "      <td>0.515442</td>\n",
       "    </tr>\n",
       "  </tbody>\n",
       "</table>\n",
       "<p>5000 rows × 2 columns</p>\n",
       "</div>"
      ],
      "text/plain": [
       "      Val Predictions   Actuals\n",
       "0            0.207325  0.212564\n",
       "1            0.210703  0.210912\n",
       "2            0.211171  0.211162\n",
       "3            0.211436  0.204035\n",
       "4            0.207132  0.202195\n",
       "...               ...       ...\n",
       "4995         0.515460  0.513864\n",
       "4996         0.514997  0.515525\n",
       "4997         0.515933  0.516001\n",
       "4998         0.516594  0.516850\n",
       "4999         0.517379  0.515442\n",
       "\n",
       "[5000 rows x 2 columns]"
      ]
     },
     "execution_count": 30,
     "metadata": {},
     "output_type": "execute_result"
    }
   ],
   "source": [
    "val_predictions = model1.predict(X_val1).flatten()\n",
    "val_results = pd.DataFrame(data={'Val Predictions':val_predictions, 'Actuals':y_val1.flatten()})\n",
    "val_results"
   ]
  },
  {
   "cell_type": "code",
   "execution_count": 31,
   "id": "4a3abde3-b160-4c58-8365-196539840781",
   "metadata": {},
   "outputs": [
    {
     "data": {
      "text/plain": [
       "[<matplotlib.lines.Line2D at 0x26b0fd6fa60>]"
      ]
     },
     "execution_count": 31,
     "metadata": {},
     "output_type": "execute_result"
    },
    {
     "data": {
      "image/png": "[encoded data removed]",
      "text/plain": [
       "<Figure size 640x480 with 1 Axes>"
      ]
     },
     "metadata": {},
     "output_type": "display_data"
    }
   ],
   "source": [
    "plt.plot(val_results['Val Predictions'])\n",
    "plt.plot(val_results['Actuals'])"
   ]
  },
  {
   "cell_type": "code",
   "execution_count": 32,
   "id": "586ae38e-c5dc-459c-9495-6c4a50062236",
   "metadata": {},
   "outputs": [
    {
     "name": "stdout",
     "output_type": "stream",
     "text": [
      "\u001b[1m31/31\u001b[0m \u001b[32m━━━━━━━━━━━━━━━━━━━━\u001b[0m\u001b[37m\u001b[0m \u001b[1m0s\u001b[0m 1ms/step \n"
     ]
    },
    {
     "data": {
      "text/html": [
       "<div>\n",
       "<style scoped>\n",
       "    .dataframe tbody tr th:only-of-type {\n",
       "        vertical-align: middle;\n",
       "    }\n",
       "\n",
       "    .dataframe tbody tr th {\n",
       "        vertical-align: top;\n",
       "    }\n",
       "\n",
       "    .dataframe thead th {\n",
       "        text-align: right;\n",
       "    }\n",
       "</style>\n",
       "<table border=\"1\" class=\"dataframe\">\n",
       "  <thead>\n",
       "    <tr style=\"text-align: right;\">\n",
       "      <th></th>\n",
       "      <th>Test Predictions</th>\n",
       "      <th>Actuals</th>\n",
       "    </tr>\n",
       "  </thead>\n",
       "  <tbody>\n",
       "    <tr>\n",
       "      <th>0</th>\n",
       "      <td>0.516685</td>\n",
       "      <td>0.510874</td>\n",
       "    </tr>\n",
       "    <tr>\n",
       "      <th>1</th>\n",
       "      <td>0.513317</td>\n",
       "      <td>0.507998</td>\n",
       "    </tr>\n",
       "    <tr>\n",
       "      <th>2</th>\n",
       "      <td>0.510185</td>\n",
       "      <td>0.508826</td>\n",
       "    </tr>\n",
       "    <tr>\n",
       "      <th>3</th>\n",
       "      <td>0.509719</td>\n",
       "      <td>0.503519</td>\n",
       "    </tr>\n",
       "    <tr>\n",
       "      <th>4</th>\n",
       "      <td>0.506067</td>\n",
       "      <td>0.493350</td>\n",
       "    </tr>\n",
       "    <tr>\n",
       "      <th>...</th>\n",
       "      <td>...</td>\n",
       "      <td>...</td>\n",
       "    </tr>\n",
       "    <tr>\n",
       "      <th>971</th>\n",
       "      <td>0.774147</td>\n",
       "      <td>0.773248</td>\n",
       "    </tr>\n",
       "    <tr>\n",
       "      <th>972</th>\n",
       "      <td>0.774175</td>\n",
       "      <td>0.778096</td>\n",
       "    </tr>\n",
       "    <tr>\n",
       "      <th>973</th>\n",
       "      <td>0.777630</td>\n",
       "      <td>0.784329</td>\n",
       "    </tr>\n",
       "    <tr>\n",
       "      <th>974</th>\n",
       "      <td>0.783177</td>\n",
       "      <td>0.781732</td>\n",
       "    </tr>\n",
       "    <tr>\n",
       "      <th>975</th>\n",
       "      <td>0.782923</td>\n",
       "      <td>0.777405</td>\n",
       "    </tr>\n",
       "  </tbody>\n",
       "</table>\n",
       "<p>976 rows × 2 columns</p>\n",
       "</div>"
      ],
      "text/plain": [
       "     Test Predictions   Actuals\n",
       "0            0.516685  0.510874\n",
       "1            0.513317  0.507998\n",
       "2            0.510185  0.508826\n",
       "3            0.509719  0.503519\n",
       "4            0.506067  0.493350\n",
       "..                ...       ...\n",
       "971          0.774147  0.773248\n",
       "972          0.774175  0.778096\n",
       "973          0.777630  0.784329\n",
       "974          0.783177  0.781732\n",
       "975          0.782923  0.777405\n",
       "\n",
       "[976 rows x 2 columns]"
      ]
     },
     "execution_count": 32,
     "metadata": {},
     "output_type": "execute_result"
    }
   ],
   "source": [
    "test_predictions = model1.predict(X_test1).flatten()\n",
    "test_results = pd.DataFrame(data={'Test Predictions':test_predictions, 'Actuals':y_test1.flatten()})\n",
    "test_results"
   ]
  },
  {
   "cell_type": "code",
   "execution_count": 33,
   "id": "6853b7cc-39e7-4559-a846-b529190d8364",
   "metadata": {},
   "outputs": [
    {
     "data": {
      "text/plain": [
       "[<matplotlib.lines.Line2D at 0x26b160f8c70>]"
      ]
     },
     "execution_count": 33,
     "metadata": {},
     "output_type": "execute_result"
    },
    {
     "data": {
      "image/png": "[encoded data removed]",
      "text/plain": [
       "<Figure size 640x480 with 1 Axes>"
      ]
     },
     "metadata": {},
     "output_type": "display_data"
    }
   ],
   "source": [
    "plt.plot(test_results['Test Predictions'])\n",
    "plt.plot(test_results['Actuals'])"
   ]
  },
  {
   "cell_type": "code",
   "execution_count": null,
   "id": "007c3c66-0a19-49ce-91ad-ff88099e2027",
   "metadata": {},
   "outputs": [],
   "source": []
  },
  {
   "cell_type": "code",
   "execution_count": null,
   "id": "2cf51600-a906-439b-b0dd-dc7faa6460eb",
   "metadata": {},
   "outputs": [],
   "source": []
  }
 ],
 "metadata": {
  "kernelspec": {
   "display_name": "Python 3 (ipykernel)",
   "language": "python",
   "name": "python3"
  },
  "language_info": {
   "codemirror_mode": {
    "name": "ipython",
    "version": 3
   },
   "file_extension": ".py",
   "mimetype": "text/x-python",
   "name": "python",
   "nbconvert_exporter": "python",
   "pygments_lexer": "ipython3",
   "version": "3.10.0"
  }
 },
 "nbformat": 4,
 "nbformat_minor": 5
}
